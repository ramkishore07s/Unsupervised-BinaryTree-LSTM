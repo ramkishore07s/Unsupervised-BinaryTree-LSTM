{
 "cells": [
  {
   "cell_type": "code",
   "execution_count": 76,
   "metadata": {
    "collapsed": true
   },
   "outputs": [],
   "source": [
    "import math\n",
    "\n",
    "import torch\n",
    "from torch import nn\n",
    "from torch.nn import init\n",
    "\n",
    "import basic"
   ]
  },
  {
   "cell_type": "code",
   "execution_count": 6,
   "metadata": {
    "collapsed": true
   },
   "outputs": [],
   "source": [
    "class BinaryTreeLSTMLayer(nn.Module):\n",
    "\n",
    "    def __init__(self, hidden_dim):\n",
    "        super(BinaryTreeLSTMLayer, self).__init__()\n",
    "        self.hidden_dim = hidden_dim\n",
    "        self.comp_linear = nn.Linear(in_features=2 * hidden_dim,\n",
    "                                     out_features=5 * hidden_dim)\n",
    "        self.reset_parameters()\n",
    "\n",
    "    def reset_parameters(self):\n",
    "        init.orthogonal_(self.comp_linear.weight.data)\n",
    "        init.constant_(self.comp_linear.bias.data, val=0)\n",
    "\n",
    "    def forward(self, l=None, r=None):\n",
    "        \"\"\"\n",
    "        Args:\n",
    "            l: A (h_l, c_l) tuple, where each value has the size\n",
    "                (batch_size, max_length, hidden_dim).\n",
    "            r: A (h_r, c_r) tuple, where each value has the size\n",
    "                (batch_size, max_length, hidden_dim).\n",
    "        Returns:\n",
    "            h, c: The hidden and cell state of the composed parent,\n",
    "                each of which has the size\n",
    "                (batch_size, max_length - 1, hidden_dim).\n",
    "        \"\"\"\n",
    "\n",
    "        hl, cl = l\n",
    "        hr, cr = r\n",
    "        hlr_cat = torch.cat([hl, hr], dim=2)\n",
    "        treelstm_vector = self.comp_linear(hlr_cat)\n",
    "        i, fl, fr, u, o = treelstm_vector.chunk(chunks=5, dim=2)\n",
    "        c = (cl*(fl + 1).sigmoid() + cr*(fr + 1).sigmoid()\n",
    "             + u.tanh()*i.sigmoid())\n",
    "        h = o.sigmoid() * c.tanh()\n",
    "        return h, c"
   ]
  },
  {
   "cell_type": "code",
   "execution_count": 80,
   "metadata": {
    "collapsed": true
   },
   "outputs": [],
   "source": [
    "def cosine_distance(hl, hr, hp):\n",
    "    # return cosine similarity\n",
    "    # add gumbell noise\n",
    "    return torch.div(torch.sum(hl * hr, 2).float(), \n",
    "                     (torch.sqrt(torch.sum(hl * hl, 2).float()) * torch.sqrt(torch.sum(hr * hr, 2).float())))"
   ]
  },
  {
   "cell_type": "code",
   "execution_count": 81,
   "metadata": {},
   "outputs": [],
   "source": [
    "a = torch.Tensor([[[2, 3, 4, 4] for _ in range(2)] for _ in range(2)])\n",
    "b = torch.Tensor([[[1, 1, 1, 2] for _ in range(2)] for _ in range(2)])"
   ]
  },
  {
   "cell_type": "code",
   "execution_count": 82,
   "metadata": {
    "collapsed": true
   },
   "outputs": [],
   "source": [
    "class TreeLSTM(nn.Module):\n",
    "    def __init__(self, dim, gumbell_temperature=1.0, classifier=cosine_distance, training=False):\n",
    "        \n",
    "        super(TreeLSTM, self).__init__()\n",
    "        self.dim = dim\n",
    "        self.gumbell_temperature = gumbell_temperature\n",
    "        self.compose_parent = BinaryTreeLSTMLayer(dim)\n",
    "        self.score = classifier\n",
    "        self.training = training"
   ]
  },
  {
   "cell_type": "code",
   "execution_count": 84,
   "metadata": {
    "collapsed": true
   },
   "outputs": [],
   "source": [
    "def forward(self, input):\n",
    "    h, c = input\n",
    "    max_depth = h.size(1)\n",
    "    for i in range(max_depth - 1):\n",
    "        hl, hr = h[:, :-1, :], h[:, 1:, :]\n",
    "        cl, cr = c[:, :-1, :], c[:, 1:, :]\n",
    "        ph, pc = self.compose_parent((hl, cl), (hr, cr))\n",
    "\n",
    "        # Compute scores for all adjacent nodes\n",
    "        comp = self.score(hl, hr, ph)\n",
    "\n",
    "        # Get probabilities\n",
    "        if self.training: select_mask = basic.st_gumbel_softmax(comp, temperature=self.gumbell_temperature, mask=None)\n",
    "        else: select_mask = basic.greedy_select(logits=comp, mask=None).float()\n",
    "        \n",
    "        # Compose binary masks based on probabilities\n",
    "        select_mask_expanded = select_mask.unsqueeze(2).expand_as(hl)\n",
    "        select_mask_cumsum = select_mask.cumsum(1)\n",
    "        left_mask_expanded = (1 - select_mask_cumsum).unsqueeze(2).expand_as(hl)\n",
    "        right_mask_expanded = (select_mask_cumsum - select_mask).unsqueeze(2).expand_as(hl)\n",
    "        \n",
    "        # Combine most probable nodes\n",
    "        h = (select_mask_expanded * ph\n",
    "             + left_mask_expanded * hl\n",
    "             + right_mask_expanded * hr)\n",
    "        c = (select_mask_expanded * pc\n",
    "             + left_mask_expanded * cl\n",
    "             + right_mask_expanded * cr)\n",
    "            \n",
    "    return h.squeeze(1), c.squeeze(1)"
   ]
  },
  {
   "cell_type": "code",
   "execution_count": null,
   "metadata": {
    "collapsed": true
   },
   "outputs": [],
   "source": [
    "TreeLSTM.forward = forward"
   ]
  }
 ],
 "metadata": {
  "kernelspec": {
   "display_name": "Python 2",
   "language": "python",
   "name": "python2"
  },
  "language_info": {
   "codemirror_mode": {
    "name": "ipython",
    "version": 2
   },
   "file_extension": ".py",
   "mimetype": "text/x-python",
   "name": "python",
   "nbconvert_exporter": "python",
   "pygments_lexer": "ipython2",
   "version": "2.7.12"
  }
 },
 "nbformat": 4,
 "nbformat_minor": 2
}
